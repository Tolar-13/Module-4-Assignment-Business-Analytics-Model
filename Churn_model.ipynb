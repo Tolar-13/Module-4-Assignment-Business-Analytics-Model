{
 "cells": [
  {
   "cell_type": "code",
   "execution_count": null,
   "id": "39d88135-c9f9-4b87-a466-ae2fd7181faf",
   "metadata": {},
   "outputs": [],
   "source": [
    "## Block 1: Load the Dataset\n",
    "\n",
    "I began by loading the pre-cleaned Telco customer churn dataset using `pandas`. \n",
    "\n",
    "Since the data had already been cleaned and prepared in earlier modules, I didn’t perform any exploratory analysis here. \n",
    "\n",
    "My goal was simply to confirm the data loaded correctly, preview its structure, and check the overall shape before moving on to modelling.\n"
   ]
  },
  {
   "cell_type": "code",
   "execution_count": 1,
   "id": "f62f4590-5b2e-4f80-b324-76d13526954e",
   "metadata": {
    "scrolled": true
   },
   "outputs": [
    {
     "name": "stdout",
     "output_type": "stream",
     "text": [
      "Dataset preview:\n",
      "   SeniorCitizen  Partner  Dependents  tenure  PhoneService  MultipleLines  \\\n",
      "0              0        1           0       1             0              0   \n",
      "1              0        0           0      34             1              0   \n",
      "2              0        0           0       2             1              0   \n",
      "3              0        0           0      45             0              0   \n",
      "4              0        0           0       2             1              0   \n",
      "\n",
      "   OnlineSecurity  OnlineBackup  DeviceProtection  TechSupport  ...  \\\n",
      "0               0             1                 0            0  ...   \n",
      "1               1             0                 1            0  ...   \n",
      "2               1             1                 0            0  ...   \n",
      "3               1             0                 1            1  ...   \n",
      "4               0             0                 0            0  ...   \n",
      "\n",
      "   tenure_group  AvgMonthlySpend  gender_Male  InternetService_Fiber optic  \\\n",
      "0          0-6m        29.850000        False                        False   \n",
      "1        25-48m        55.573529         True                        False   \n",
      "2          0-6m        54.075000         True                        False   \n",
      "3        25-48m        40.905556         True                        False   \n",
      "4          0-6m        75.825000        False                         True   \n",
      "\n",
      "   InternetService_No  Contract_One year Contract_Two year  \\\n",
      "0               False              False             False   \n",
      "1               False               True             False   \n",
      "2               False              False             False   \n",
      "3               False               True             False   \n",
      "4               False              False             False   \n",
      "\n",
      "   PaymentMethod_Credit card (automatic)  PaymentMethod_Electronic check  \\\n",
      "0                                  False                            True   \n",
      "1                                  False                           False   \n",
      "2                                  False                           False   \n",
      "3                                  False                           False   \n",
      "4                                  False                            True   \n",
      "\n",
      "   PaymentMethod_Mailed check  \n",
      "0                       False  \n",
      "1                        True  \n",
      "2                        True  \n",
      "3                       False  \n",
      "4                       False  \n",
      "\n",
      "[5 rows x 26 columns]\n",
      "Dataset shape: (7043, 26)\n"
     ]
    }
   ],
   "source": [
    "# Block 1: Load the Dataset\n",
    "\n",
    "import pandas as pd\n",
    "\n",
    "# Load the pre-cleaned dataset\n",
    "file_path = \"telco_model_ready.csv\"  # Ensure this file is in the current directory\n",
    "df = pd.read_csv(file_path)\n",
    "\n",
    "# Preview the data (for confirmation)\n",
    "print(\"Dataset preview:\")\n",
    "print(df.head())\n",
    "\n",
    "# Display dataset shape\n",
    "print(\"Dataset shape:\", df.shape)\n"
   ]
  },
  {
   "cell_type": "code",
   "execution_count": null,
   "id": "7d0cd86f-3515-425c-b3e3-db45424a57a4",
   "metadata": {},
   "outputs": [],
   "source": [
    "## Block 2: Preprocessing and Data Splitting\n",
    "\n",
    "Next, I performed any final preprocessing needed — specifically, I checked if the `tenure_group` column needed one-hot encoding.\n",
    "\n",
    "I then split the data into training (60%), validation (20%), and test (20%) sets using stratified sampling to maintain the class distribution of churn vs. non-churn.\n",
    "\n",
    "By doing this, I ensured that the model would train on balanced data and be properly evaluated on unseen examples. \n",
    "\n",
    "This split also allowed me to separately tune my threshold and assess generalisation.\n"
   ]
  },
  {
   "cell_type": "code",
   "execution_count": 3,
   "id": "f692d76b-1314-4be3-a45e-94727ab3e3b5",
   "metadata": {
    "scrolled": true
   },
   "outputs": [
    {
     "name": "stdout",
     "output_type": "stream",
     "text": [
      "Training set shape: (4225, 28)\n",
      "Validation set shape: (1409, 28)\n",
      "Test set shape: (1409, 28)\n",
      "\n",
      "Churn distribution (training):\n",
      "Churn\n",
      "0    0.734675\n",
      "1    0.265325\n",
      "Name: proportion, dtype: float64\n",
      "\n",
      "Churn distribution (validation):\n",
      "Churn\n",
      "0    0.734564\n",
      "1    0.265436\n",
      "Name: proportion, dtype: float64\n",
      "\n",
      "Churn distribution (test):\n",
      "Churn\n",
      "0    0.734564\n",
      "1    0.265436\n",
      "Name: proportion, dtype: float64\n"
     ]
    }
   ],
   "source": [
    "# Block 2: Preprocessing and Data Splitting\n",
    "\n",
    "from sklearn.model_selection import train_test_split\n",
    "\n",
    "# One-hot encode 'tenure_group' if not already encoded\n",
    "if 'tenure_group' in df.columns and df['tenure_group'].dtype == 'object':\n",
    "    df = pd.get_dummies(df, columns=['tenure_group'], drop_first=True)\n",
    "\n",
    "# Define feature matrix X and target vector y\n",
    "X = df.drop(\"Churn\", axis=1)\n",
    "y = df[\"Churn\"]\n",
    "\n",
    "# First split: 60% training, 40% temporary (to be split again)\n",
    "X_train, X_temp, y_train, y_temp = train_test_split(\n",
    "    X, y, test_size=0.4, stratify=y, random_state=42\n",
    ")\n",
    "\n",
    "# Second split: 20% validation, 20% test from temporary set\n",
    "X_val, X_test, y_val, y_test = train_test_split(\n",
    "    X_temp, y_temp, test_size=0.5, stratify=y_temp, random_state=42\n",
    ")\n",
    "\n",
    "# Confirm dimensions of each split\n",
    "print(\"Training set shape:\", X_train.shape)\n",
    "print(\"Validation set shape:\", X_val.shape)\n",
    "print(\"Test set shape:\", X_test.shape)\n",
    "\n",
    "# Check target distribution in each split\n",
    "print(\"\\nChurn distribution (training):\")\n",
    "print(y_train.value_counts(normalize=True))\n",
    "\n",
    "print(\"\\nChurn distribution (validation):\")\n",
    "print(y_val.value_counts(normalize=True))\n",
    "\n",
    "print(\"\\nChurn distribution (test):\")\n",
    "print(y_test.value_counts(normalize=True))\n"
   ]
  },
  {
   "cell_type": "code",
   "execution_count": null,
   "id": "bcf97d75-38a6-4f3c-a793-4df4daca0c5d",
   "metadata": {},
   "outputs": [],
   "source": [
    "## Block 3: Model Training – Logistic Regression (with Scaling)\n",
    "\n",
    "At this stage, I standardised all numerical features using `StandardScaler`, which helped improve the model’s convergence during training. \n",
    "\n",
    "I chose a logistic regression model with `class_weight='balanced'` to account for the class imbalance in churn.\n",
    "\n",
    "After training the model on the scaled training data, I evaluated its performance on the validation set using the default threshold of 0.5. \n",
    "\n",
    "I looked at the classification report and ROC AUC score to understand the baseline performance before tuning.\n"
   ]
  },
  {
   "cell_type": "code",
   "execution_count": 5,
   "id": "38a20f2c-6bc0-4fb4-88bb-8f4563e8fa6c",
   "metadata": {
    "scrolled": true
   },
   "outputs": [
    {
     "name": "stdout",
     "output_type": "stream",
     "text": [
      "Classification Report (Validation Set):\n",
      "              precision    recall  f1-score   support\n",
      "\n",
      "           0       0.92      0.72      0.81      1035\n",
      "           1       0.52      0.83      0.64       374\n",
      "\n",
      "    accuracy                           0.75      1409\n",
      "   macro avg       0.72      0.78      0.72      1409\n",
      "weighted avg       0.81      0.75      0.76      1409\n",
      "\n",
      "Validation ROC AUC Score: 0.8599\n"
     ]
    }
   ],
   "source": [
    "# Block 3: Model Training – Logistic Regression (with Scaling)\n",
    "\n",
    "from sklearn.linear_model import LogisticRegression\n",
    "from sklearn.preprocessing import StandardScaler\n",
    "from sklearn.metrics import classification_report, roc_auc_score\n",
    "\n",
    "# Step 1: Scale the features\n",
    "scaler = StandardScaler()\n",
    "\n",
    "# Fit scaler on training data only, then transform all sets\n",
    "X_train_scaled = scaler.fit_transform(X_train)\n",
    "X_val_scaled = scaler.transform(X_val)\n",
    "X_test_scaled = scaler.transform(X_test)\n",
    "\n",
    "# Step 2: Train logistic regression model\n",
    "logreg = LogisticRegression(class_weight='balanced', max_iter=1000, random_state=42)\n",
    "logreg.fit(X_train_scaled, y_train)\n",
    "\n",
    "# Step 3: Predict on validation set\n",
    "y_val_pred = logreg.predict(X_val_scaled)\n",
    "y_val_proba = logreg.predict_proba(X_val_scaled)[:, 1]  # For ROC AUC and threshold tuning\n",
    "\n",
    "# Step 4: Evaluate model performance\n",
    "print(\"Classification Report (Validation Set):\")\n",
    "print(classification_report(y_val, y_val_pred))\n",
    "\n",
    "roc_val = roc_auc_score(y_val, y_val_proba)\n",
    "print(f\"Validation ROC AUC Score: {roc_val:.4f}\")\n"
   ]
  },
  {
   "cell_type": "code",
   "execution_count": null,
   "id": "02e11eda-663a-45f9-816e-d72682471dcd",
   "metadata": {},
   "outputs": [],
   "source": [
    "## Block 4: Final Evaluation with Threshold = 0.39\n",
    "\n",
    "I then experimented with different threshold values to improve recall on churners (class 1), which was important for the business problem. \n",
    "                                                                                                                \n",
    "After reviewing several thresholds, I found that 0.39 provided the best balance between recall, precision, and accuracy.\n",
    "\n",
    "In this block, I evaluated the model using this adjusted threshold on the validation set. \n",
    "\n",
    "I printed out the classification report and the ROC AUC to confirm the new threshold improved performance in line with my goals.\n"
   ]
  },
  {
   "cell_type": "code",
   "execution_count": 7,
   "id": "36589f5d-15e4-4d60-91ae-80bfd2341356",
   "metadata": {
    "scrolled": true
   },
   "outputs": [
    {
     "name": "stdout",
     "output_type": "stream",
     "text": [
      "Classification Report (Threshold = 0.39):\n",
      "              precision    recall  f1-score   support\n",
      "\n",
      "           0       0.95      0.63      0.75      1035\n",
      "           1       0.47      0.90      0.62       374\n",
      "\n",
      "    accuracy                           0.70      1409\n",
      "   macro avg       0.71      0.76      0.68      1409\n",
      "weighted avg       0.82      0.70      0.72      1409\n",
      "\n",
      "ROC AUC Score (Threshold = 0.39): 0.8599\n"
     ]
    }
   ],
   "source": [
    "# Block 4: Final Evaluation with Threshold = 0.39\n",
    "\n",
    "from sklearn.metrics import classification_report, roc_auc_score\n",
    "\n",
    "# Apply optimal threshold\n",
    "threshold = 0.39\n",
    "y_val_pred_opt = (y_val_proba >= threshold).astype(int)\n",
    "\n",
    "# Evaluate classification performance\n",
    "print(f\"Classification Report (Threshold = {threshold}):\")\n",
    "print(classification_report(y_val, y_val_pred_opt))\n",
    "\n",
    "# ROC AUC (independent of threshold)\n",
    "roc_auc = roc_auc_score(y_val, y_val_proba)\n",
    "print(f\"ROC AUC Score (Threshold = {threshold}): {roc_auc:.4f}\")\n"
   ]
  },
  {
   "cell_type": "code",
   "execution_count": null,
   "id": "180ff30a-f3f7-4ed0-981d-6bf7071b85cd",
   "metadata": {},
   "outputs": [],
   "source": [
    "### Summary of Validation Results\n",
    "\n",
    "Based on the adjusted threshold of 0.39, the model achieved a strong balance between sensitivity and precision. \n",
    "\n",
    "Specifically, it captured 90% of churners (high recall), while maintaining a precision of 0.47 and an accuracy of 0.70 on the validation set. \n",
    "\n",
    "These results confirm that the threshold adjustment was effective and aligns well with the business goal of identifying at-risk customers.\n"
   ]
  },
  {
   "cell_type": "code",
   "execution_count": null,
   "id": "2df4fc7a-a3f3-4230-a30a-ef45f6f88f42",
   "metadata": {},
   "outputs": [],
   "source": [
    "## Block 5: Evaluate Final Model on the Test Set using Threshold = 0.39\n",
    "\n",
    "After finalising my threshold using the validation set, I applied the model to the test set. \n",
    "\n",
    "This allowed me to simulate real-world performance on completely unseen data.\n",
    "\n",
    "I calculated the key metrics — accuracy, precision, recall, and ROC AUC — to ensure the model generalised well. \n",
    "\n",
    "These results confirmed that the model was robust and ready for deployment.\n"
   ]
  },
  {
   "cell_type": "code",
   "execution_count": 9,
   "id": "0f15466e-f786-466f-b277-a46c15f7ef34",
   "metadata": {},
   "outputs": [
    {
     "name": "stdout",
     "output_type": "stream",
     "text": [
      "Classification Report (Test Set, Threshold = 0.39):\n",
      "              precision    recall  f1-score   support\n",
      "\n",
      "           0       0.94      0.62      0.75      1035\n",
      "           1       0.46      0.89      0.60       374\n",
      "\n",
      "    accuracy                           0.69      1409\n",
      "   macro avg       0.70      0.75      0.68      1409\n",
      "weighted avg       0.81      0.69      0.71      1409\n",
      "\n",
      "ROC AUC Score (Test Set): 0.8377\n"
     ]
    }
   ],
   "source": [
    "# Block 5: Evaluate Final Model on the Test Set using Threshold = 0.39\n",
    "\n",
    "from sklearn.metrics import classification_report, roc_auc_score\n",
    "\n",
    "# Predict probabilities\n",
    "y_test_proba = logreg.predict_proba(X_test_scaled)[:, 1]\n",
    "\n",
    "# Apply threshold\n",
    "y_test_pred = (y_test_proba >= 0.39).astype(int)\n",
    "\n",
    "# Evaluation metrics\n",
    "print(\"Classification Report (Test Set, Threshold = 0.39):\")\n",
    "print(classification_report(y_test, y_test_pred))\n",
    "\n",
    "roc_auc_test = roc_auc_score(y_test, y_test_proba)\n",
    "print(f\"ROC AUC Score (Test Set): {roc_auc_test:.4f}\")\n"
   ]
  },
  {
   "cell_type": "code",
   "execution_count": null,
   "id": "e7248734-63c6-406f-898e-2c40a99784a0",
   "metadata": {},
   "outputs": [],
   "source": [
    "### Summary of Test Set Evaluation\n",
    "\n",
    "When applied to the test set, the model continued to perform consistently, achieving an accuracy of 0.69, a recall of 0.89 for churners, and a precision of 0.46. \n",
    "\n",
    "This confirms that the model generalises well to unseen data and is suitable for deployment. \n",
    "\n",
    "The ROC AUC score of 0.8377 further reinforces the model’s reliability in distinguishing between churners and non-churners.\n"
   ]
  },
  {
   "cell_type": "code",
   "execution_count": null,
   "id": "6aac93b9-8235-4c53-a4da-46ee699b7f42",
   "metadata": {},
   "outputs": [],
   "source": [
    "## Block 6: SHAP Explanation and Explainer Save\n",
    "\n",
    "To improve model interpretability, I integrated SHAP (SHapley Additive Explanations) into the pipeline. \n",
    "\n",
    "Using SHAP’s linear explainer, I was able to identify the features that contributed most to the model’s predictions.\n",
    "\n",
    "I visualised and reviewed the top features influencing churn and then saved the SHAP explainer so I could use it later during deployment. \n",
    "\n",
    "This step ensures that my final model is explainable and transparent, which is especially important in business settings.\n"
   ]
  },
  {
   "cell_type": "code",
   "execution_count": 11,
   "id": "ade1dd32-94d3-431e-ba8c-889754e4b099",
   "metadata": {
    "scrolled": true
   },
   "outputs": [
    {
     "data": {
      "image/png": "[encoded data removed]",
      "text/plain": [
       "<Figure size 800x650 with 1 Axes>"
      ]
     },
     "metadata": {},
     "output_type": "display_data"
    },
    {
     "name": "stdout",
     "output_type": "stream",
     "text": [
      "SHAP explainer saved successfully.\n"
     ]
    }
   ],
   "source": [
    "# Block 6: SHAP Explanation and Explainer Save\n",
    "\n",
    "import shap\n",
    "import joblib\n",
    "\n",
    "# Initialize SHAP explainer for linear model using training data\n",
    "explainer = shap.Explainer(logreg, X_train_scaled, feature_names=X.columns.tolist())\n",
    "\n",
    "\n",
    "# Example: explain a few predictions from the validation set\n",
    "shap_values = explainer(X_val_scaled[:5])\n",
    "\n",
    "# Visualise in notebook (optional)\n",
    "shap.plots.bar(shap_values)  # or shap.plots.waterfall(shap_values[0])\n",
    "\n",
    "# Save the explainer for deployment\n",
    "joblib.dump(explainer, \"shap_explainer_final.pkl\")\n",
    "\n",
    "print(\"SHAP explainer saved successfully.\")\n"
   ]
  },
  {
   "cell_type": "code",
   "execution_count": null,
   "id": "78f166e1-b2c9-4883-a9ba-ffd1447aedba",
   "metadata": {},
   "outputs": [],
   "source": [
    "## Block 7: Save Final Model, Scaler, SHAP Explainer, and Threshold\n",
    "\n",
    "Finally, I saved all the components I’ll need for deployment in Module 5:\n",
    "- The trained logistic regression model\n",
    "- The `StandardScaler` used for preprocessing\n",
    "- The SHAP explainer for interpretability\n",
    "- And the decision threshold (0.39)\n",
    "\n",
    "This will allow me to reload everything in a web app or API and make predictions on new customer data without retraining the model.\n"
   ]
  },
  {
   "cell_type": "code",
   "execution_count": 13,
   "id": "94627857-1c15-457b-ac6e-965acba1b616",
   "metadata": {},
   "outputs": [
    {
     "name": "stdout",
     "output_type": "stream",
     "text": [
      "All components saved successfully:\n",
      "- logistic_model_final.pkl\n",
      "- scaler_final.pkl\n",
      "- shap_explainer_final.pkl\n",
      "- model_threshold.txt\n"
     ]
    }
   ],
   "source": [
    "# Block 7: Save Final Model, Scaler, SHAP Explainer, and Threshold\n",
    "\n",
    "import joblib\n",
    "\n",
    "# Save the trained logistic regression model\n",
    "joblib.dump(logreg, \"logistic_model_final.pkl\")\n",
    "\n",
    "# Save the fitted scaler\n",
    "joblib.dump(scaler, \"scaler_final.pkl\")\n",
    "\n",
    "# Save the SHAP explainer\n",
    "joblib.dump(explainer, \"shap_explainer_final.pkl\")\n",
    "\n",
    "# Save the threshold value to a text file\n",
    "with open(\"model_threshold.txt\", \"w\") as f:\n",
    "    f.write(\"0.39\")\n",
    "\n",
    "print(\"All components saved successfully:\")\n",
    "print(\"- logistic_model_final.pkl\")\n",
    "print(\"- scaler_final.pkl\")\n",
    "print(\"- shap_explainer_final.pkl\")\n",
    "print(\"- model_threshold.txt\")\n"
   ]
  },
  {
   "cell_type": "code",
   "execution_count": null,
   "id": "d4bcdc3e-0762-49c7-88bd-be3d1aaaa63b",
   "metadata": {},
   "outputs": [],
   "source": []
  }
 ],
 "metadata": {
  "kernelspec": {
   "display_name": "Python 3 (ipykernel)",
   "language": "python",
   "name": "python3"
  },
  "language_info": {
   "codemirror_mode": {
    "name": "ipython",
    "version": 3
   },
   "file_extension": ".py",
   "mimetype": "text/x-python",
   "name": "python",
   "nbconvert_exporter": "python",
   "pygments_lexer": "ipython3",
   "version": "3.12.3"
  }
 },
 "nbformat": 4,
 "nbformat_minor": 5
}
